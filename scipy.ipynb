{
 "cells": [
  {
   "cell_type": "code",
   "execution_count": 3,
   "metadata": {},
   "outputs": [
    {
     "data": {
      "text/plain": [
       "Text(0,0.5,'Min and max temperature')"
      ]
     },
     "execution_count": 3,
     "metadata": {},
     "output_type": "execute_result"
    },
    {
     "data": {
      "image/png": "[encoded data removed]",
      "text/plain": [
       "<Figure size 432x288 with 1 Axes>"
      ]
     },
     "metadata": {},
     "output_type": "display_data"
    }
   ],
   "source": [
    "import numpy as np\n",
    "temp_max=np.array([39,41,43,47,49,51,45,38,37,29,27,25])\n",
    "temp_min=np.array([21,23,27,28,32,35,31,28,21,19,17,18])\n",
    "import matplotlib.pyplot as plt\n",
    "months=np.arange(12)\n",
    "plt.plot(months,temp_max,'go')\n",
    "plt.plot(months,temp_min,'co')\n",
    "plt.xlabel('Month')\n",
    "plt.ylabel('Min and max temperature')\n",
    "\n",
    "\n"
   ]
  },
  {
   "cell_type": "code",
   "execution_count": 2,
   "metadata": {},
   "outputs": [],
   "source": [
    "from scipy import optimize\n",
    "def yearly_temps(times,avg,ampl,time_offset):\n",
    "    return (avg +ampl*np.cos((times+time_offset)*1.8*np.pi/times.max()))\n",
    "res_max,cov_max=optimize.curve_fit(yearly_temps,months,temp_max,[40,20,0])\n",
    "res_min,cov_min=optimize.curve_fit(yearly_temps,months,temp_min,[-40,20,0])\n",
    "\n",
    "\n",
    "\n",
    "\n"
   ]
  },
  {
   "cell_type": "code",
   "execution_count": null,
   "metadata": {},
   "outputs": [],
   "source": []
  }
 ],
 "metadata": {
  "kernelspec": {
   "display_name": "Python 3",
   "language": "python",
   "name": "python3"
  },
  "language_info": {
   "codemirror_mode": {
    "name": "ipython",
    "version": 3
   },
   "file_extension": ".py",
   "mimetype": "text/x-python",
   "name": "python",
   "nbconvert_exporter": "python",
   "pygments_lexer": "ipython3",
   "version": "3.6.5"
  }
 },
 "nbformat": 4,
 "nbformat_minor": 2
}
